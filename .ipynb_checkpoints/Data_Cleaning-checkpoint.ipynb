{
 "cells": [
  {
   "cell_type": "code",
   "execution_count": 14,
   "id": "10194347-ff85-48c8-ac52-703a1f38ac99",
   "metadata": {},
   "outputs": [],
   "source": [
    "import pandas as pd \n",
    "import matplotlib.pyplot as plt \n",
    "import os\n",
    "import re"
   ]
  },
  {
   "cell_type": "code",
   "execution_count": 15,
   "id": "874b99bd-3d27-40f0-aabf-2567215f6699",
   "metadata": {},
   "outputs": [],
   "source": [
    "column_names = [\"Filename\", \"Scan Type(s)\", \"Description\", \"Bottom Line\", \"Image URL\"]\n",
    "df = pd.read_csv(\"brain_scan_dataset.csv\", names=column_names)"
   ]
  },
  {
   "cell_type": "code",
   "execution_count": 16,
   "id": "4fb3f986-bc7d-402b-ab6b-d1224331dfe3",
   "metadata": {},
   "outputs": [
    {
     "data": {
      "text/html": [
       "<div>\n",
       "<style scoped>\n",
       "    .dataframe tbody tr th:only-of-type {\n",
       "        vertical-align: middle;\n",
       "    }\n",
       "\n",
       "    .dataframe tbody tr th {\n",
       "        vertical-align: top;\n",
       "    }\n",
       "\n",
       "    .dataframe thead th {\n",
       "        text-align: right;\n",
       "    }\n",
       "</style>\n",
       "<table border=\"1\" class=\"dataframe\">\n",
       "  <thead>\n",
       "    <tr style=\"text-align: right;\">\n",
       "      <th></th>\n",
       "      <th>Filename</th>\n",
       "      <th>Scan Type(s)</th>\n",
       "      <th>Description</th>\n",
       "      <th>Bottom Line</th>\n",
       "      <th>Image URL</th>\n",
       "    </tr>\n",
       "  </thead>\n",
       "  <tbody>\n",
       "    <tr>\n",
       "      <th>0</th>\n",
       "      <td>Image Name</td>\n",
       "      <td>Scan Type(s)</td>\n",
       "      <td>Description</td>\n",
       "      <td>Bottom Line</td>\n",
       "      <td>Image URL</td>\n",
       "    </tr>\n",
       "    <tr>\n",
       "      <th>1</th>\n",
       "      <td>image0002.png</td>\n",
       "      <td>CT, Tomography</td>\n",
       "      <td>F2: Postoperative plain computed tomography sc...</td>\n",
       "      <td>Bottom Line:Ventriculo peritoneal (VP) shunt u...</td>\n",
       "      <td>https://openi.nlm.nih.gov/imgs/150/215/4244800...</td>\n",
       "    </tr>\n",
       "    <tr>\n",
       "      <th>2</th>\n",
       "      <td>image0003.png</td>\n",
       "      <td>Tomography, Magnetic resonance</td>\n",
       "      <td>F1: Brain imaging studies. (a) Pre-treatment b...</td>\n",
       "      <td>Bottom Line:The results of his initial physica...</td>\n",
       "      <td>https://openi.nlm.nih.gov/imgs/150/389/3514352...</td>\n",
       "    </tr>\n",
       "    <tr>\n",
       "      <th>3</th>\n",
       "      <td>image0005.png</td>\n",
       "      <td>CT, Tomography</td>\n",
       "      <td>FI1400007cr-3: Postoperative CT brain scan sho...</td>\n",
       "      <td>Bottom Line:A CT brain scan showed a postopera...</td>\n",
       "      <td>https://openi.nlm.nih.gov/imgs/150/193/4212698...</td>\n",
       "    </tr>\n",
       "    <tr>\n",
       "      <th>4</th>\n",
       "      <td>image0001.png</td>\n",
       "      <td>CT</td>\n",
       "      <td>figure3: On an iOS device, an NCCT brain scan ...</td>\n",
       "      <td>Bottom Line:The interpretations made on an iOS...</td>\n",
       "      <td>https://openi.nlm.nih.gov/imgs/150/147/3221380...</td>\n",
       "    </tr>\n",
       "  </tbody>\n",
       "</table>\n",
       "</div>"
      ],
      "text/plain": [
       "        Filename                    Scan Type(s)  \\\n",
       "0     Image Name                    Scan Type(s)   \n",
       "1  image0002.png                  CT, Tomography   \n",
       "2  image0003.png  Tomography, Magnetic resonance   \n",
       "3  image0005.png                  CT, Tomography   \n",
       "4  image0001.png                              CT   \n",
       "\n",
       "                                         Description  \\\n",
       "0                                        Description   \n",
       "1  F2: Postoperative plain computed tomography sc...   \n",
       "2  F1: Brain imaging studies. (a) Pre-treatment b...   \n",
       "3  FI1400007cr-3: Postoperative CT brain scan sho...   \n",
       "4  figure3: On an iOS device, an NCCT brain scan ...   \n",
       "\n",
       "                                         Bottom Line  \\\n",
       "0                                        Bottom Line   \n",
       "1  Bottom Line:Ventriculo peritoneal (VP) shunt u...   \n",
       "2  Bottom Line:The results of his initial physica...   \n",
       "3  Bottom Line:A CT brain scan showed a postopera...   \n",
       "4  Bottom Line:The interpretations made on an iOS...   \n",
       "\n",
       "                                           Image URL  \n",
       "0                                          Image URL  \n",
       "1  https://openi.nlm.nih.gov/imgs/150/215/4244800...  \n",
       "2  https://openi.nlm.nih.gov/imgs/150/389/3514352...  \n",
       "3  https://openi.nlm.nih.gov/imgs/150/193/4212698...  \n",
       "4  https://openi.nlm.nih.gov/imgs/150/147/3221380...  "
      ]
     },
     "execution_count": 16,
     "metadata": {},
     "output_type": "execute_result"
    }
   ],
   "source": [
    "df.head()"
   ]
  },
  {
   "cell_type": "code",
   "execution_count": 17,
   "id": "66016dc7-cf91-40b1-86c3-cdcd30a65459",
   "metadata": {},
   "outputs": [],
   "source": [
    "# Removing rows with bad metadata\n",
    "\n",
    "df.columns = df.columns.str.strip()\n",
    "\n",
    "clean_df = df[\n",
    "    (df[\"Description\"] != \"No description\") &\n",
    "    (df[\"Bottom Line\"] != \"No bottom line\") &\n",
    "    (df[\"Scan Type(s)\"] != \"Unknown\")\n",
    "]"
   ]
  },
  {
   "cell_type": "code",
   "execution_count": 18,
   "id": "f44618fa-e852-437e-b8f6-eba23760f410",
   "metadata": {},
   "outputs": [
    {
     "name": "stdout",
     "output_type": "stream",
     "text": [
      "843\n",
      "1201\n"
     ]
    }
   ],
   "source": [
    "print(clean_df.shape[0])\n",
    "print(df.shape[0])"
   ]
  },
  {
   "cell_type": "code",
   "execution_count": 19,
   "id": "d3cc34b3-a796-44ce-986a-f55281d51d12",
   "metadata": {},
   "outputs": [
    {
     "data": {
      "text/html": [
       "<div>\n",
       "<style scoped>\n",
       "    .dataframe tbody tr th:only-of-type {\n",
       "        vertical-align: middle;\n",
       "    }\n",
       "\n",
       "    .dataframe tbody tr th {\n",
       "        vertical-align: top;\n",
       "    }\n",
       "\n",
       "    .dataframe thead th {\n",
       "        text-align: right;\n",
       "    }\n",
       "</style>\n",
       "<table border=\"1\" class=\"dataframe\">\n",
       "  <thead>\n",
       "    <tr style=\"text-align: right;\">\n",
       "      <th></th>\n",
       "      <th>Filename</th>\n",
       "      <th>Scan Type(s)</th>\n",
       "      <th>Description</th>\n",
       "      <th>Bottom Line</th>\n",
       "      <th>Image URL</th>\n",
       "    </tr>\n",
       "  </thead>\n",
       "  <tbody>\n",
       "    <tr>\n",
       "      <th>0</th>\n",
       "      <td>Image Name</td>\n",
       "      <td>Scan Type(s)</td>\n",
       "      <td>Description</td>\n",
       "      <td>Bottom Line</td>\n",
       "      <td>Image URL</td>\n",
       "    </tr>\n",
       "    <tr>\n",
       "      <th>1</th>\n",
       "      <td>image0002.png</td>\n",
       "      <td>CT, Tomography</td>\n",
       "      <td>F2: Postoperative plain computed tomography sc...</td>\n",
       "      <td>Bottom Line:Ventriculo peritoneal (VP) shunt u...</td>\n",
       "      <td>https://openi.nlm.nih.gov/imgs/150/215/4244800...</td>\n",
       "    </tr>\n",
       "    <tr>\n",
       "      <th>2</th>\n",
       "      <td>image0003.png</td>\n",
       "      <td>Tomography, Magnetic resonance</td>\n",
       "      <td>F1: Brain imaging studies. (a) Pre-treatment b...</td>\n",
       "      <td>Bottom Line:The results of his initial physica...</td>\n",
       "      <td>https://openi.nlm.nih.gov/imgs/150/389/3514352...</td>\n",
       "    </tr>\n",
       "    <tr>\n",
       "      <th>3</th>\n",
       "      <td>image0005.png</td>\n",
       "      <td>CT, Tomography</td>\n",
       "      <td>FI1400007cr-3: Postoperative CT brain scan sho...</td>\n",
       "      <td>Bottom Line:A CT brain scan showed a postopera...</td>\n",
       "      <td>https://openi.nlm.nih.gov/imgs/150/193/4212698...</td>\n",
       "    </tr>\n",
       "    <tr>\n",
       "      <th>4</th>\n",
       "      <td>image0001.png</td>\n",
       "      <td>CT</td>\n",
       "      <td>figure3: On an iOS device, an NCCT brain scan ...</td>\n",
       "      <td>Bottom Line:The interpretations made on an iOS...</td>\n",
       "      <td>https://openi.nlm.nih.gov/imgs/150/147/3221380...</td>\n",
       "    </tr>\n",
       "  </tbody>\n",
       "</table>\n",
       "</div>"
      ],
      "text/plain": [
       "        Filename                    Scan Type(s)  \\\n",
       "0     Image Name                    Scan Type(s)   \n",
       "1  image0002.png                  CT, Tomography   \n",
       "2  image0003.png  Tomography, Magnetic resonance   \n",
       "3  image0005.png                  CT, Tomography   \n",
       "4  image0001.png                              CT   \n",
       "\n",
       "                                         Description  \\\n",
       "0                                        Description   \n",
       "1  F2: Postoperative plain computed tomography sc...   \n",
       "2  F1: Brain imaging studies. (a) Pre-treatment b...   \n",
       "3  FI1400007cr-3: Postoperative CT brain scan sho...   \n",
       "4  figure3: On an iOS device, an NCCT brain scan ...   \n",
       "\n",
       "                                         Bottom Line  \\\n",
       "0                                        Bottom Line   \n",
       "1  Bottom Line:Ventriculo peritoneal (VP) shunt u...   \n",
       "2  Bottom Line:The results of his initial physica...   \n",
       "3  Bottom Line:A CT brain scan showed a postopera...   \n",
       "4  Bottom Line:The interpretations made on an iOS...   \n",
       "\n",
       "                                           Image URL  \n",
       "0                                          Image URL  \n",
       "1  https://openi.nlm.nih.gov/imgs/150/215/4244800...  \n",
       "2  https://openi.nlm.nih.gov/imgs/150/389/3514352...  \n",
       "3  https://openi.nlm.nih.gov/imgs/150/193/4212698...  \n",
       "4  https://openi.nlm.nih.gov/imgs/150/147/3221380...  "
      ]
     },
     "execution_count": 19,
     "metadata": {},
     "output_type": "execute_result"
    }
   ],
   "source": [
    "clean_df.head()"
   ]
  },
  {
   "cell_type": "code",
   "execution_count": 20,
   "id": "80d2b7ae-ce1a-420f-9964-7e8863692f05",
   "metadata": {},
   "outputs": [
    {
     "name": "stdout",
     "output_type": "stream",
     "text": [
      "🧹 After removing collage-type rows: 523 rows remain.\n"
     ]
    }
   ],
   "source": [
    "# Drop rows with collage pattern like (a), (b), ..., (z), (A), ..., (Z)\n",
    "pattern = r\"\\([a-zA-Z]\\)\"\n",
    "clean_df = clean_df[~clean_df[\"Description\"].str.contains(pattern, regex=True)]\n",
    "\n",
    "print(f\"🧹 After removing collage-type rows: {len(clean_df)} rows remain.\")"
   ]
  },
  {
   "cell_type": "code",
   "execution_count": 21,
   "id": "32cb4248-7e5c-46cb-88e1-5caa0034ef92",
   "metadata": {},
   "outputs": [
    {
     "name": "stdout",
     "output_type": "stream",
     "text": [
      "💾 Saved to 'cleaned_brain_scan_dataset.csv'\n"
     ]
    }
   ],
   "source": [
    "# Save to CSV (overwrite mode)\n",
    "clean_df.to_csv(\"cleaned_brain_scan_dataset.csv\", index=False)\n",
    "print(\"💾 Saved to 'cleaned_brain_scan_dataset.csv'\")"
   ]
  },
  {
   "cell_type": "code",
   "execution_count": null,
   "id": "bef0989f-7379-4f93-8712-b64dd6469527",
   "metadata": {},
   "outputs": [],
   "source": []
  }
 ],
 "metadata": {
  "kernelspec": {
   "display_name": "Python 3 (ipykernel)",
   "language": "python",
   "name": "python3"
  },
  "language_info": {
   "codemirror_mode": {
    "name": "ipython",
    "version": 3
   },
   "file_extension": ".py",
   "mimetype": "text/x-python",
   "name": "python",
   "nbconvert_exporter": "python",
   "pygments_lexer": "ipython3",
   "version": "3.12.3"
  }
 },
 "nbformat": 4,
 "nbformat_minor": 5
}
